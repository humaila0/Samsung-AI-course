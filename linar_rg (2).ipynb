{
  "nbformat": 4,
  "nbformat_minor": 0,
  "metadata": {
    "colab": {
      "provenance": []
    },
    "kernelspec": {
      "name": "python3",
      "display_name": "Python 3"
    },
    "language_info": {
      "name": "python"
    }
  },
  "cells": [
    {
      "cell_type": "markdown",
      "source": [
        "# **Task1**"
      ],
      "metadata": {
        "id": "8_4fctqQcQcr"
      }
    },
    {
      "cell_type": "code",
      "source": [
        "import pandas as pd\n",
        "from sklearn.linear_model import LinearRegression\n",
        "\n",
        "# Load the data\n",
        "data = pd.read_csv('/content/hiring.csv')\n",
        "print(data)\n",
        "\n",
        "\n"
      ],
      "metadata": {
        "colab": {
          "base_uri": "https://localhost:8080/"
        },
        "id": "D4eeFGdpKWcJ",
        "outputId": "c7fcd0e2-c51f-443c-b280-3bcd377df980"
      },
      "execution_count": 28,
      "outputs": [
        {
          "output_type": "stream",
          "name": "stdout",
          "text": [
            "  experience  test_score(out of 10)  interview_score(out of 10)  salary($)\n",
            "0        NaN                    8.0                           9      50000\n",
            "1        NaN                    8.0                           6      45000\n",
            "2       five                    6.0                           7      60000\n",
            "3        two                   10.0                          10      65000\n",
            "4      seven                    9.0                           6      70000\n",
            "5      three                    7.0                          10      62000\n",
            "6        ten                    NaN                           7      72000\n",
            "7     eleven                    7.0                           8      80000\n"
          ]
        }
      ]
    },
    {
      "cell_type": "code",
      "source": [
        "\n",
        "\n",
        "# Preprocess the data\n",
        "data['experience'].fillna(0, inplace=True)\n",
        "data['test_score(out of 10)'].fillna(data['test_score(out of 10)'].mean(), inplace=True)\n",
        "print(data)\n"
      ],
      "metadata": {
        "colab": {
          "base_uri": "https://localhost:8080/"
        },
        "id": "aX6ON2oIUSCM",
        "outputId": "957181fb-1c2e-4978-b68c-5a68150fd8c9"
      },
      "execution_count": 29,
      "outputs": [
        {
          "output_type": "stream",
          "name": "stdout",
          "text": [
            "  experience  test_score(out of 10)  interview_score(out of 10)  salary($)\n",
            "0          0               8.000000                           9      50000\n",
            "1          0               8.000000                           6      45000\n",
            "2       five               6.000000                           7      60000\n",
            "3        two              10.000000                          10      65000\n",
            "4      seven               9.000000                           6      70000\n",
            "5      three               7.000000                          10      62000\n",
            "6        ten               7.857143                           7      72000\n",
            "7     eleven               7.000000                           8      80000\n"
          ]
        },
        {
          "output_type": "stream",
          "name": "stderr",
          "text": [
            "<ipython-input-29-a27a3efb2373>:2: FutureWarning: A value is trying to be set on a copy of a DataFrame or Series through chained assignment using an inplace method.\n",
            "The behavior will change in pandas 3.0. This inplace method will never work because the intermediate object on which we are setting values always behaves as a copy.\n",
            "\n",
            "For example, when doing 'df[col].method(value, inplace=True)', try using 'df.method({col: value}, inplace=True)' or df[col] = df[col].method(value) instead, to perform the operation inplace on the original object.\n",
            "\n",
            "\n",
            "  data['experience'].fillna(0, inplace=True)\n",
            "<ipython-input-29-a27a3efb2373>:3: FutureWarning: A value is trying to be set on a copy of a DataFrame or Series through chained assignment using an inplace method.\n",
            "The behavior will change in pandas 3.0. This inplace method will never work because the intermediate object on which we are setting values always behaves as a copy.\n",
            "\n",
            "For example, when doing 'df[col].method(value, inplace=True)', try using 'df.method({col: value}, inplace=True)' or df[col] = df[col].method(value) instead, to perform the operation inplace on the original object.\n",
            "\n",
            "\n",
            "  data['test_score(out of 10)'].fillna(data['test_score(out of 10)'].mean(), inplace=True)\n"
          ]
        }
      ]
    },
    {
      "cell_type": "code",
      "source": [
        "def convert_to_int(word):\n",
        "    word_dict = {'one': 1, 'two': 2, 'three': 3, 'four': 4, 'five': 5,\n",
        "                 'six': 6, 'seven': 7, 'eight': 8, 'nine': 9, 'ten': 10,\n",
        "                 'eleven': 11, 'twelve': 12, 0: 0}\n",
        "    # Return the value from the dictionary or the word itself if it's already numeric\n",
        "    return word_dict.get(word, word)\n",
        "\n",
        "# Apply the conversion function to the 'experience' column\n",
        "data['experience'] = data['experience'].apply(convert_to_int)\n",
        "print(data)\n"
      ],
      "metadata": {
        "colab": {
          "base_uri": "https://localhost:8080/"
        },
        "id": "sSeAYkUUV-Wv",
        "outputId": "5dd8bcc8-149c-4b20-dca3-33fc4dfb3ca5"
      },
      "execution_count": 30,
      "outputs": [
        {
          "output_type": "stream",
          "name": "stdout",
          "text": [
            "   experience  test_score(out of 10)  interview_score(out of 10)  salary($)\n",
            "0           0               8.000000                           9      50000\n",
            "1           0               8.000000                           6      45000\n",
            "2           5               6.000000                           7      60000\n",
            "3           2              10.000000                          10      65000\n",
            "4           7               9.000000                           6      70000\n",
            "5           3               7.000000                          10      62000\n",
            "6          10               7.857143                           7      72000\n",
            "7          11               7.000000                           8      80000\n"
          ]
        }
      ]
    },
    {
      "cell_type": "code",
      "source": [
        "# Define features and target variable\n",
        "X = data[['experience', 'test_score(out of 10)', 'interview_score(out of 10)']]\n",
        "y = data['salary($)']\n",
        "\n",
        "# Train the model\n",
        "model = LinearRegression()\n",
        "model.fit(X, y)\n",
        "\n",
        "# Create a DataFrame for the prediction data\n",
        "candidate_data = pd.DataFrame({\n",
        "    'experience': [2, 12],\n",
        "    'test_score(out of 10)': [9, 10],\n",
        "    'interview_score(out of 10)': [6, 10]\n",
        "})\n",
        "\n",
        "# Predict salaries using the model\n",
        "predicted_salaries = model.predict(candidate_data)\n",
        "print(\"Predicted Salaries:\", predicted_salaries)\n"
      ],
      "metadata": {
        "colab": {
          "base_uri": "https://localhost:8080/"
        },
        "id": "J5M2WYIfYE7K",
        "outputId": "55146e85-f7c5-48c3-cc16-21d7c9fab4fd"
      },
      "execution_count": 31,
      "outputs": [
        {
          "output_type": "stream",
          "name": "stdout",
          "text": [
            "Predicted Salaries: [53290.89255945 92268.07227784]\n"
          ]
        }
      ]
    },
    {
      "cell_type": "markdown",
      "source": [
        "# **Task2**"
      ],
      "metadata": {
        "id": "T5Mx2cMVcduS"
      }
    },
    {
      "cell_type": "code",
      "source": [
        "import pandas as pd\n",
        "from sklearn.linear_model import LinearRegression\n",
        "\n",
        "# Load the data\n",
        "data = pd.read_csv('/content/canada_per_capita_income.csv')\n",
        "print(data)\n"
      ],
      "metadata": {
        "colab": {
          "base_uri": "https://localhost:8080/"
        },
        "id": "eMFRrP1sci3a",
        "outputId": "19b45524-4f59-4614-acb3-1cf4581fb929"
      },
      "execution_count": 32,
      "outputs": [
        {
          "output_type": "stream",
          "name": "stdout",
          "text": [
            "    year  per capita income (US$)\n",
            "0   1970              3399.299037\n",
            "1   1971              3768.297935\n",
            "2   1972              4251.175484\n",
            "3   1973              4804.463248\n",
            "4   1974              5576.514583\n",
            "5   1975              5998.144346\n",
            "6   1976              7062.131392\n",
            "7   1977              7100.126170\n",
            "8   1978              7247.967035\n",
            "9   1979              7602.912681\n",
            "10  1980              8355.968120\n",
            "11  1981              9434.390652\n",
            "12  1982              9619.438377\n",
            "13  1983             10416.536590\n",
            "14  1984             10790.328720\n",
            "15  1985             11018.955850\n",
            "16  1986             11482.891530\n",
            "17  1987             12974.806620\n",
            "18  1988             15080.283450\n",
            "19  1989             16426.725480\n",
            "20  1990             16838.673200\n",
            "21  1991             17266.097690\n",
            "22  1992             16412.083090\n",
            "23  1993             15875.586730\n",
            "24  1994             15755.820270\n",
            "25  1995             16369.317250\n",
            "26  1996             16699.826680\n",
            "27  1997             17310.757750\n",
            "28  1998             16622.671870\n",
            "29  1999             17581.024140\n",
            "30  2000             18987.382410\n",
            "31  2001             18601.397240\n",
            "32  2002             19232.175560\n",
            "33  2003             22739.426280\n",
            "34  2004             25719.147150\n",
            "35  2005             29198.055690\n",
            "36  2006             32738.262900\n",
            "37  2007             36144.481220\n",
            "38  2008             37446.486090\n",
            "39  2009             32755.176820\n",
            "40  2010             38420.522890\n",
            "41  2011             42334.711210\n",
            "42  2012             42665.255970\n",
            "43  2013             42676.468370\n",
            "44  2014             41039.893600\n",
            "45  2015             35175.188980\n",
            "46  2016             34229.193630\n"
          ]
        }
      ]
    },
    {
      "cell_type": "code",
      "source": [
        "# Features and Target\n",
        "X = data[['year']]\n",
        "y = data['per capita income (US$)']\n",
        "\n",
        "# Model Training\n",
        "model = LinearRegression()\n",
        "model.fit(X, y)\n",
        "\n",
        "year_2020 = pd.DataFrame({'year': [2020]})\n",
        "\n",
        "# Predicting for the year 2020\n",
        "predicted_income_2020 = model.predict(year_2020)\n",
        "\n",
        "print(\"Predicted Per Capita Income for 2020: ${:.2f}\".format(predicted_income_2020[0]))"
      ],
      "metadata": {
        "colab": {
          "base_uri": "https://localhost:8080/"
        },
        "id": "i8Wm-eMTfxGY",
        "outputId": "d141391f-c01d-4ff3-a70e-214fb0e3f248"
      },
      "execution_count": 33,
      "outputs": [
        {
          "output_type": "stream",
          "name": "stdout",
          "text": [
            "Predicted Per Capita Income for 2020: $41288.69\n"
          ]
        }
      ]
    }
  ]
}
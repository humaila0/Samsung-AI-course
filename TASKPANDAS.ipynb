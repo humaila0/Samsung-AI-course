{
  "nbformat": 4,
  "nbformat_minor": 0,
  "metadata": {
    "colab": {
      "provenance": []
    },
    "kernelspec": {
      "name": "python3",
      "display_name": "Python 3"
    },
    "language_info": {
      "name": "python"
    }
  },
  "cells": [
    {
      "cell_type": "code",
      "execution_count": 5,
      "metadata": {
        "colab": {
          "base_uri": "https://localhost:8080/"
        },
        "id": "LX42BwNGxyvl",
        "outputId": "2d774bb0-ff29-4afe-d41a-e93565b1cf55"
      },
      "outputs": [
        {
          "output_type": "stream",
          "name": "stdout",
          "text": [
            "[[ 0 -1 -2 -3 -4]\n",
            " [ 5  6  7  8  9]]\n"
          ]
        }
      ],
      "source": [
        "#Q#1\n",
        "import numpy as np\n",
        "\n",
        "a = np.arange(0, 10).reshape((2, 5))\n",
        "a[0] = -a[0]\n",
        "print(a)\n"
      ]
    },
    {
      "cell_type": "code",
      "source": [
        "#Q#2\n",
        "import numpy as np\n",
        "\n",
        "array = np.random.randint(1, 101, size=(5, 5))\n",
        "\n",
        "avg = np.average(a)\n",
        "min = np.min(a)\n",
        "max = np.max(a)\n",
        "\n",
        "row_sums = np.sum(array, axis=1)\n",
        "column_sums = np.sum(array, axis=0)\n",
        "print(\"Array of Random:\\n\", array)\n",
        "\n",
        "print(\"Minimum Value:\", min)\n",
        "print(\"Maximum Value:\", max)\n",
        "print(\"Row sums:\", row_sums)\n",
        "print(\"Column sums:\", column_sums)"
      ],
      "metadata": {
        "colab": {
          "base_uri": "https://localhost:8080/"
        },
        "id": "1k0HN73qzeHz",
        "outputId": "1d4ee4f6-a55b-4613-e52f-9d2a8b561d94"
      },
      "execution_count": 9,
      "outputs": [
        {
          "output_type": "stream",
          "name": "stdout",
          "text": [
            "Array of Random:\n",
            " [[87 44 86 76 66]\n",
            " [13 73 84 59 86]\n",
            " [18 91 40 61 88]\n",
            " [73 91 80  2 45]\n",
            " [41 43  7 45 48]]\n",
            "Minimum Value: -4\n",
            "Maximum Value: 9\n",
            "Row sums: [359 315 298 291 184]\n",
            "Column sums: [232 342 297 243 333]\n"
          ]
        }
      ]
    },
    {
      "cell_type": "code",
      "source": [
        "#Q#3\n",
        "import numpy as np\n",
        "\n",
        "m1 = np.random.rand(3, 3)\n",
        "m2 = np.random.rand(3, 3)\n",
        "\n",
        "a = m1 + m2\n",
        "s = m1 - m2\n",
        "m = m1 * m2\n",
        "d = m1 / m2\n",
        "\n",
        "dot_product = np.dot(m1, m2)\n",
        "\n",
        "print(\"Matrix 1:\\n\", m1)\n",
        "print(\"Matrix 2:\\n\", m2)\n",
        "print(\"Addition:\\n\", a)\n",
        "print(\"Subtraction:\\n\", s)\n",
        "print(\"Multiplication:\\n\", m)\n",
        "print(\" Division:\\n\", d)\n",
        "print(\"Dot Product:\\n\", dot_product)\n"
      ],
      "metadata": {
        "colab": {
          "base_uri": "https://localhost:8080/"
        },
        "id": "vztaQ0H5_Rqd",
        "outputId": "3c2e9a27-c566-4911-8adf-ba63a81d79f2"
      },
      "execution_count": 10,
      "outputs": [
        {
          "output_type": "stream",
          "name": "stdout",
          "text": [
            "Matrix 1:\n",
            " [[0.77918473 0.17342204 0.15927209]\n",
            " [0.34064075 0.63755419 0.20583309]\n",
            " [0.60959785 0.11610314 0.51985436]]\n",
            "Matrix 2:\n",
            " [[0.05817367 0.6169844  0.05008007]\n",
            " [0.00376288 0.20264214 0.64351778]\n",
            " [0.97887539 0.33990471 0.37373034]]\n",
            "Addition:\n",
            " [[0.8373584  0.79040644 0.20935216]\n",
            " [0.34440363 0.84019633 0.84935087]\n",
            " [1.58847324 0.45600786 0.8935847 ]]\n",
            "Subtraction:\n",
            " [[ 0.72101106 -0.44356236  0.10919203]\n",
            " [ 0.33687787  0.43491205 -0.43768469]\n",
            " [-0.36927754 -0.22380157  0.14612402]]\n",
            "Multiplication:\n",
            " [[0.04532803 0.10699869 0.00797636]\n",
            " [0.00128179 0.12919534 0.13245725]\n",
            " [0.59672033 0.03946401 0.19428535]]\n",
            " Division:\n",
            " [[13.39411341  0.28108011  3.18034902]\n",
            " [90.52659617  3.14620736  0.31985611]\n",
            " [ 0.62275327  0.34157556  1.39098785]]\n",
            "Dot Product:\n",
            " [[0.20188813 0.57002477 0.2101466 ]\n",
            " [0.22370031 0.40932901 0.50426284]\n",
            " [0.54477207 0.5763407  0.29952849]]\n"
          ]
        }
      ]
    },
    {
      "cell_type": "code",
      "source": [
        "#Q#4\n",
        "import numpy as np\n",
        "\n",
        "array = np.random.randint(1, 101, size=(4, 4))\n",
        "\n",
        "second_row = array[1]\n",
        "\n",
        "third_column = array[:, 2]\n",
        "\n",
        "sub_array = array[1:4, 0:3]\n",
        "\n",
        "print(\"original array :\\n\", array)\n",
        "print(\"second_row :\\n\", second_row)\n",
        "print(\"third_column :\\n\", third_column)\n",
        "print(\"sub_array:\\n\", sub_array)\n"
      ],
      "metadata": {
        "colab": {
          "base_uri": "https://localhost:8080/"
        },
        "id": "bBrFbn0JAADP",
        "outputId": "529e2f5e-e156-4e8a-f3cd-524502f27ab2"
      },
      "execution_count": 15,
      "outputs": [
        {
          "output_type": "stream",
          "name": "stdout",
          "text": [
            "original array :\n",
            " [[85 33 13 93]\n",
            " [36 39 30  7]\n",
            " [84 48 78 36]\n",
            " [30 24 71 92]]\n",
            "second_row :\n",
            " [36 39 30  7]\n",
            "third_column :\n",
            " [13 30 78 71]\n",
            "sub_array:\n",
            " [[36 39 30]\n",
            " [84 48 78]\n",
            " [30 24 71]]\n"
          ]
        }
      ]
    },
    {
      "cell_type": "code",
      "source": [
        "#Q#5\n",
        "\n",
        "import numpy as np\n",
        "\n",
        "array = np.arange(1, 21)\n",
        "print(\"original array :\\n\", array)\n",
        "filtered_elements = []\n",
        "\n",
        "for i in range(len(array)):\n",
        "    if array[i] % 2 == 0:\n",
        "        array[i] = array[i] ** 2\n",
        "    if array[i] > 50:\n",
        "       filtered_elements.append(array[i])\n",
        "\n",
        "print(\"Modified for even square Array:\\n\", array)\n",
        "print(\"Elements greater than 50:\\n\", filtered_elements)"
      ],
      "metadata": {
        "colab": {
          "base_uri": "https://localhost:8080/"
        },
        "id": "4A1Lb97aCkuP",
        "outputId": "a7101a93-e008-465c-d3c0-ae479f9bcd02"
      },
      "execution_count": 17,
      "outputs": [
        {
          "output_type": "stream",
          "name": "stdout",
          "text": [
            "original array :\n",
            " [ 1  2  3  4  5  6  7  8  9 10 11 12 13 14 15 16 17 18 19 20]\n",
            "Modified for even square Array:\n",
            " [  1   4   3  16   5  36   7  64   9 100  11 144  13 196  15 256  17 324\n",
            "  19 400]\n",
            "Elements greater than 50:\n",
            " [64, 100, 144, 196, 256, 324, 400]\n"
          ]
        }
      ]
    },
    {
      "cell_type": "code",
      "source": [
        "#Q#6\n",
        "\n",
        "import pandas as pd\n",
        "\n",
        "data={\n",
        "    'Name':['Hafsa','Ayesha','ahmed','Malaika','noor'],\n",
        "    'Age':[12,23,34,34,21],\n",
        "    'Gender':['female','female','male','female','female'],\n",
        "    'Score':[12,23,34,34,21]\n",
        "}\n",
        "\n",
        "df = pd.DataFrame(data)\n",
        "print(\"Data:\")\n",
        "print(df)\n",
        "\n",
        "print(\"First few rows of the DataFrame:\")\n",
        "print(df.head())\n",
        "\n",
        "# Inspect the data types of each column\n",
        "print(\"\\nData types of each column:\")\n",
        "print(df.dtypes)\n",
        "\n",
        "# Get a summary of the DataFrame’s statistical metrics\n",
        "print(\"\\nSummary of statistical metrics:\")\n",
        "print(df.describe(include='all'))"
      ],
      "metadata": {
        "colab": {
          "base_uri": "https://localhost:8080/"
        },
        "id": "Lj0TeAmME_0e",
        "outputId": "896376d7-087c-4fb2-ade8-ed32607576d6"
      },
      "execution_count": 29,
      "outputs": [
        {
          "output_type": "stream",
          "name": "stdout",
          "text": [
            "Data:\n",
            "      Name  Age  Gender  Score\n",
            "0    Hafsa   12  female     12\n",
            "1   Ayesha   23  female     23\n",
            "2    ahmed   34    male     34\n",
            "3  Malaika   34  female     34\n",
            "4     noor   21  female     21\n",
            "First few rows of the DataFrame:\n",
            "      Name  Age  Gender  Score\n",
            "0    Hafsa   12  female     12\n",
            "1   Ayesha   23  female     23\n",
            "2    ahmed   34    male     34\n",
            "3  Malaika   34  female     34\n",
            "4     noor   21  female     21\n",
            "\n",
            "Data types of each column:\n",
            "Name      object\n",
            "Age        int64\n",
            "Gender    object\n",
            "Score      int64\n",
            "dtype: object\n",
            "\n",
            "Summary of statistical metrics:\n",
            "         Name        Age  Gender      Score\n",
            "count       5   5.000000       5   5.000000\n",
            "unique      5        NaN       2        NaN\n",
            "top     Hafsa        NaN  female        NaN\n",
            "freq        1        NaN       4        NaN\n",
            "mean      NaN  24.800000     NaN  24.800000\n",
            "std       NaN   9.364828     NaN   9.364828\n",
            "min       NaN  12.000000     NaN  12.000000\n",
            "25%       NaN  21.000000     NaN  21.000000\n",
            "50%       NaN  23.000000     NaN  23.000000\n",
            "75%       NaN  34.000000     NaN  34.000000\n",
            "max       NaN  34.000000     NaN  34.000000\n"
          ]
        }
      ]
    },
    {
      "cell_type": "code",
      "source": [
        "\n",
        "import pandas as pd\n",
        "import numpy as np\n",
        "#Q#7\n",
        "\n",
        "# Create a DataFrame with 10 rows\n",
        "# data = {\n",
        "#     'ID': range(1, 11),\n",
        "#     'Age': np.random.randint(18, 60, size=10),\n",
        "#     'Income': np.random.randint(30000, 100000, size=10),\n",
        "#     'Score': [np.nan, 75, 82, np.nan, 91, 88, np.nan, 77, 85, 90]\n",
        "# }\n",
        "# Create a DataFrame with 10 rows\n",
        "data = {\n",
        "    'ID': range(1, 11),\n",
        "    'Age': [12, 23, 34, 34, 21, 12, 23, 34, 34, 21],\n",
        "    'Income': [1222, 2343, 35554, 3235544, 2231, 12325, 2353, 353234, 343652, 236651],\n",
        "    'Score': [np.nan, 75, 82, np.nan, 91, 88, np.nan, 77, 85, 90]\n",
        "}\n",
        "\n",
        "df = pd.DataFrame(data)\n",
        "\n",
        "# Sort the DataFrame by 'Income' in descending order and create a copy\n",
        "sorted_df = df.sort_values(by='Income', ascending=False).copy()\n",
        "\n",
        "# Replace missing values in 'Score' with the average score of the column\n",
        "average_score = sorted_df['Score'].mean()\n",
        "sorted_df['Score'] = sorted_df['Score'].fillna(average_score)\n",
        "\n",
        "# Print the sorted DataFrame and the average score\n",
        "print(\"Sorted DataFrame by Income (descending):\")\n",
        "print(sorted_df)\n",
        "\n",
        "print(\"\\nAverage Score (used to replace missing values):\", average_score)\n",
        "\n",
        "#Q#8\n",
        "# Filter rows where 'Income' > 50000 and 'Age' < 30\n",
        "filtered_rows = df[(df['Income'] > 50000) & (df['Age'] < 30)]\n",
        "\n",
        "# Retrieve only the 'ID' and 'Score' columns\n",
        "result = filtered_rows[['ID', 'Score']]\n",
        "\n",
        "# Print the results\n",
        "print(\"\\nFiltered Rows (Income > 50000 and Age < 30):\")\n",
        "print(result)"
      ],
      "metadata": {
        "colab": {
          "base_uri": "https://localhost:8080/"
        },
        "id": "shnrhzWhHvTS",
        "outputId": "d61bb4b9-46da-4273-b780-6855ae1a9732"
      },
      "execution_count": 38,
      "outputs": [
        {
          "output_type": "stream",
          "name": "stdout",
          "text": [
            "Sorted DataFrame by Income (descending):\n",
            "   ID  Age   Income  Score\n",
            "3   4   34  3235544   84.0\n",
            "7   8   34   353234   77.0\n",
            "8   9   34   343652   85.0\n",
            "9  10   21   236651   90.0\n",
            "2   3   34    35554   82.0\n",
            "5   6   12    12325   88.0\n",
            "6   7   23     2353   84.0\n",
            "1   2   23     2343   75.0\n",
            "4   5   21     2231   91.0\n",
            "0   1   12     1222   84.0\n",
            "\n",
            "Average Score (used to replace missing values): 84.0\n",
            "\n",
            "Filtered Rows (Income > 50000 and Age < 30):\n",
            "   ID  Score\n",
            "9  10   90.0\n"
          ]
        }
      ]
    },
    {
      "cell_type": "code",
      "source": [
        "#Q#9\n",
        "import pandas as pd\n",
        "\n",
        "# Create a DataFrame\n",
        "data = {\n",
        "    'Department': ['HR', 'Finance', 'IT', 'HR', 'Finance', 'IT', 'IT', 'HR', 'Finance', 'IT'],\n",
        "    'Employee': ['Alice', 'Bob', 'Charlie', 'David', 'Eva', 'Frank', 'Grace', 'Heidi', 'Ivan', 'Judy'],\n",
        "    'Salary': [60000, 70000, 80000, 62000, 72000, 75000, 85000, 64000, 71000, 90000],\n",
        "    'Experience': [5, 6, 7, 5, 4, 3, 2, 6, 5, 8]\n",
        "}\n",
        "\n",
        "df = pd.DataFrame(data)\n",
        "\n",
        "# Group by 'Department' and calculate mean and maximum Salary\n",
        "salary_stats = df.groupby('Department')['Salary'].agg(['mean', 'max']).reset_index()\n",
        "\n",
        "# Count the total number of employees in each department\n",
        "employee_count = df['Department'].value_counts().reset_index()\n",
        "employee_count.columns = ['Department', 'Total Employees']\n",
        "\n",
        "# Combine the results\n",
        "result = pd.merge(salary_stats, employee_count, on='Department')\n",
        "\n",
        "# Print the results\n",
        "print(\"Salary Statistics and Employee Count by Department:\")\n",
        "print(result)\n"
      ],
      "metadata": {
        "colab": {
          "base_uri": "https://localhost:8080/"
        },
        "id": "6jI2oiZ2L_xm",
        "outputId": "345bcf2d-4bd8-40ac-d2e3-e2ed65655f8b"
      },
      "execution_count": 32,
      "outputs": [
        {
          "output_type": "stream",
          "name": "stdout",
          "text": [
            "Salary Statistics and Employee Count by Department:\n",
            "  Department     mean    max  Total Employees\n",
            "0    Finance  71000.0  72000                3\n",
            "1         HR  62000.0  64000                3\n",
            "2         IT  82500.0  90000                4\n"
          ]
        }
      ]
    },
    {
      "cell_type": "code",
      "source": [
        "#QUESTION.10\n",
        "\n",
        "import pandas as pd\n",
        "\n",
        "df1 = pd.DataFrame({\n",
        "    'Employee': ['HUMAILA', 'Basit', 'hafsa', 'Dawood', 'Ayesha'],\n",
        "    'Department': ['HR', 'Engineering', 'Marketing', 'Engineering', 'HR'],\n",
        "    'Salary': [70000, 90000, 50000, 80000, 60000]\n",
        "})\n",
        "\n",
        "df2 = pd.DataFrame({\n",
        "    'Employee': ['HUMAILA', 'Basit', 'hafsa', 'Dawood', 'Ayesha'],\n",
        "    'Project': ['Project1', 'Project2', 'Project1', 'Project3', 'Project2']\n",
        "})\n",
        "\n",
        "mer_df = pd.merge(df1, df2, on='Employee', how='inner')\n",
        "\n",
        "tot_sal = mer_df.groupby('Project')['Salary'].sum()\n",
        "print(\"DataFrame1:\")\n",
        "print(df1)\n",
        "print(\"DataFrame2:\")\n",
        "\n",
        "print(df2)\n",
        "print(\"Merged DataFrame:\")\n",
        "print(mer_df)\n",
        "print(\"Total Salary for each Project:\")\n",
        "print(tot_sal)"
      ],
      "metadata": {
        "colab": {
          "base_uri": "https://localhost:8080/"
        },
        "id": "ZaT_WVU9MPHE",
        "outputId": "7d657601-211a-44bb-9c67-cc8640b2e1c7"
      },
      "execution_count": 41,
      "outputs": [
        {
          "output_type": "stream",
          "name": "stdout",
          "text": [
            "DataFrame1:\n",
            "  Employee   Department  Salary\n",
            "0  HUMAILA           HR   70000\n",
            "1    Basit  Engineering   90000\n",
            "2    hafsa    Marketing   50000\n",
            "3   Dawood  Engineering   80000\n",
            "4   Ayesha           HR   60000\n",
            "DataFrame2:\n",
            "  Employee   Project\n",
            "0  HUMAILA  Project1\n",
            "1    Basit  Project2\n",
            "2    hafsa  Project1\n",
            "3   Dawood  Project3\n",
            "4   Ayesha  Project2\n",
            "Merged DataFrame:\n",
            "  Employee   Department  Salary   Project\n",
            "0  HUMAILA           HR   70000  Project1\n",
            "1    Basit  Engineering   90000  Project2\n",
            "2    hafsa    Marketing   50000  Project1\n",
            "3   Dawood  Engineering   80000  Project3\n",
            "4   Ayesha           HR   60000  Project2\n",
            "Total Salary for each Project:\n",
            "Project\n",
            "Project1    120000\n",
            "Project2    150000\n",
            "Project3     80000\n",
            "Name: Salary, dtype: int64\n"
          ]
        }
      ]
    }
  ]
}
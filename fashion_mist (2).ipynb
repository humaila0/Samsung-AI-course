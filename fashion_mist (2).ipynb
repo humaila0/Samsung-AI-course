{
  "nbformat": 4,
  "nbformat_minor": 0,
  "metadata": {
    "colab": {
      "provenance": [],
      "gpuType": "T4"
    },
    "kernelspec": {
      "name": "python3",
      "display_name": "Python 3"
    },
    "language_info": {
      "name": "python"
    },
    "accelerator": "GPU"
  },
  "cells": [
    {
      "cell_type": "code",
      "execution_count": 2,
      "metadata": {
        "colab": {
          "base_uri": "https://localhost:8080/"
        },
        "id": "knO-KwWnZmWa",
        "outputId": "134ca187-a468-485d-e4eb-6b38c01f47a1"
      },
      "outputs": [
        {
          "output_type": "stream",
          "name": "stdout",
          "text": [
            "Downloading data from https://storage.googleapis.com/tensorflow/tf-keras-datasets/train-labels-idx1-ubyte.gz\n",
            "\u001b[1m29515/29515\u001b[0m \u001b[32m━━━━━━━━━━━━━━━━━━━━\u001b[0m\u001b[37m\u001b[0m \u001b[1m0s\u001b[0m 0us/step\n",
            "Downloading data from https://storage.googleapis.com/tensorflow/tf-keras-datasets/train-images-idx3-ubyte.gz\n",
            "\u001b[1m26421880/26421880\u001b[0m \u001b[32m━━━━━━━━━━━━━━━━━━━━\u001b[0m\u001b[37m\u001b[0m \u001b[1m2s\u001b[0m 0us/step\n",
            "Downloading data from https://storage.googleapis.com/tensorflow/tf-keras-datasets/t10k-labels-idx1-ubyte.gz\n",
            "\u001b[1m5148/5148\u001b[0m \u001b[32m━━━━━━━━━━━━━━━━━━━━\u001b[0m\u001b[37m\u001b[0m \u001b[1m0s\u001b[0m 0us/step\n",
            "Downloading data from https://storage.googleapis.com/tensorflow/tf-keras-datasets/t10k-images-idx3-ubyte.gz\n",
            "\u001b[1m4422102/4422102\u001b[0m \u001b[32m━━━━━━━━━━━━━━━━━━━━\u001b[0m\u001b[37m\u001b[0m \u001b[1m1s\u001b[0m 0us/step\n"
          ]
        }
      ],
      "source": [
        "import tensorflow as tf\n",
        "from tensorflow.keras.datasets import fashion_mnist\n",
        "from tensorflow.keras.utils import to_categorical\n",
        "from sklearn.metrics import classification_report\n",
        "\n",
        "# Load the Fashion MNIST dataset\n",
        "(x_train, y_train), (x_test, y_test) = fashion_mnist.load_data()\n",
        "\n",
        "# Normalize the images\n",
        "x_train = x_train / 255.0\n",
        "x_test = x_test / 255.0\n",
        "\n",
        "# Reshape and one-hot encode the labels\n",
        "y_train = to_categorical(y_train, 10)\n",
        "y_test = to_categorical(y_test, 10)\n"
      ]
    },
    {
      "cell_type": "code",
      "source": [
        "from tensorflow.keras.models import Sequential\n",
        "from tensorflow.keras.layers import Dense, Flatten\n",
        "\n",
        "# Build the ANN model\n",
        "ann_model = Sequential([\n",
        "    Flatten(input_shape=(28, 28)),\n",
        "    Dense(128, activation='relu'),\n",
        "    Dense(64, activation='relu'),\n",
        "    Dense(10, activation='softmax')\n",
        "])\n",
        "\n",
        "# Compile the model\n",
        "ann_model.compile(optimizer='adam', loss='categorical_crossentropy', metrics=['accuracy'])\n",
        "\n",
        "# Train the model\n",
        "ann_model.fit(x_train, y_train, epochs=10, validation_data=(x_test, y_test))\n"
      ],
      "metadata": {
        "colab": {
          "base_uri": "https://localhost:8080/"
        },
        "id": "AjdgZl1Ybrmo",
        "outputId": "c3ff7488-606b-4261-9db6-3228ac6e3a54"
      },
      "execution_count": 3,
      "outputs": [
        {
          "output_type": "stream",
          "name": "stderr",
          "text": [
            "/usr/local/lib/python3.10/dist-packages/keras/src/layers/reshaping/flatten.py:37: UserWarning: Do not pass an `input_shape`/`input_dim` argument to a layer. When using Sequential models, prefer using an `Input(shape)` object as the first layer in the model instead.\n",
            "  super().__init__(**kwargs)\n"
          ]
        },
        {
          "output_type": "stream",
          "name": "stdout",
          "text": [
            "Epoch 1/10\n",
            "\u001b[1m1875/1875\u001b[0m \u001b[32m━━━━━━━━━━━━━━━━━━━━\u001b[0m\u001b[37m\u001b[0m \u001b[1m8s\u001b[0m 2ms/step - accuracy: 0.7814 - loss: 0.6266 - val_accuracy: 0.8349 - val_loss: 0.4562\n",
            "Epoch 2/10\n",
            "\u001b[1m1875/1875\u001b[0m \u001b[32m━━━━━━━━━━━━━━━━━━━━\u001b[0m\u001b[37m\u001b[0m \u001b[1m8s\u001b[0m 2ms/step - accuracy: 0.8618 - loss: 0.3784 - val_accuracy: 0.8562 - val_loss: 0.4013\n",
            "Epoch 3/10\n",
            "\u001b[1m1875/1875\u001b[0m \u001b[32m━━━━━━━━━━━━━━━━━━━━\u001b[0m\u001b[37m\u001b[0m \u001b[1m4s\u001b[0m 2ms/step - accuracy: 0.8802 - loss: 0.3265 - val_accuracy: 0.8588 - val_loss: 0.3842\n",
            "Epoch 4/10\n",
            "\u001b[1m1875/1875\u001b[0m \u001b[32m━━━━━━━━━━━━━━━━━━━━\u001b[0m\u001b[37m\u001b[0m \u001b[1m5s\u001b[0m 2ms/step - accuracy: 0.8889 - loss: 0.3031 - val_accuracy: 0.8739 - val_loss: 0.3460\n",
            "Epoch 5/10\n",
            "\u001b[1m1875/1875\u001b[0m \u001b[32m━━━━━━━━━━━━━━━━━━━━\u001b[0m\u001b[37m\u001b[0m \u001b[1m6s\u001b[0m 2ms/step - accuracy: 0.8926 - loss: 0.2905 - val_accuracy: 0.8671 - val_loss: 0.3551\n",
            "Epoch 6/10\n",
            "\u001b[1m1875/1875\u001b[0m \u001b[32m━━━━━━━━━━━━━━━━━━━━\u001b[0m\u001b[37m\u001b[0m \u001b[1m4s\u001b[0m 2ms/step - accuracy: 0.8990 - loss: 0.2714 - val_accuracy: 0.8748 - val_loss: 0.3488\n",
            "Epoch 7/10\n",
            "\u001b[1m1875/1875\u001b[0m \u001b[32m━━━━━━━━━━━━━━━━━━━━\u001b[0m\u001b[37m\u001b[0m \u001b[1m5s\u001b[0m 2ms/step - accuracy: 0.8991 - loss: 0.2634 - val_accuracy: 0.8775 - val_loss: 0.3560\n",
            "Epoch 8/10\n",
            "\u001b[1m1875/1875\u001b[0m \u001b[32m━━━━━━━━━━━━━━━━━━━━\u001b[0m\u001b[37m\u001b[0m \u001b[1m5s\u001b[0m 2ms/step - accuracy: 0.9057 - loss: 0.2469 - val_accuracy: 0.8802 - val_loss: 0.3446\n",
            "Epoch 9/10\n",
            "\u001b[1m1875/1875\u001b[0m \u001b[32m━━━━━━━━━━━━━━━━━━━━\u001b[0m\u001b[37m\u001b[0m \u001b[1m5s\u001b[0m 2ms/step - accuracy: 0.9103 - loss: 0.2384 - val_accuracy: 0.8795 - val_loss: 0.3487\n",
            "Epoch 10/10\n",
            "\u001b[1m1875/1875\u001b[0m \u001b[32m━━━━━━━━━━━━━━━━━━━━\u001b[0m\u001b[37m\u001b[0m \u001b[1m6s\u001b[0m 2ms/step - accuracy: 0.9110 - loss: 0.2349 - val_accuracy: 0.8838 - val_loss: 0.3381\n"
          ]
        },
        {
          "output_type": "execute_result",
          "data": {
            "text/plain": [
              "<keras.src.callbacks.history.History at 0x7a9a918af310>"
            ]
          },
          "metadata": {},
          "execution_count": 3
        }
      ]
    },
    {
      "cell_type": "code",
      "source": [
        "# Evaluate the model\n",
        "ann_loss, ann_accuracy = ann_model.evaluate(x_test, y_test)\n",
        "y_pred_ann = ann_model.predict(x_test)\n",
        "y_pred_ann_classes = y_pred_ann.argmax(axis=1)\n",
        "y_true = y_test.argmax(axis=1)\n",
        "\n",
        "# Print classification report\n",
        "print(\"ANN Classification Report:\")\n",
        "print(classification_report(y_true, y_pred_ann_classes))\n"
      ],
      "metadata": {
        "colab": {
          "base_uri": "https://localhost:8080/"
        },
        "id": "jXak7MySfIAc",
        "outputId": "25613658-4f98-4d88-e7ca-861410c82a31"
      },
      "execution_count": 4,
      "outputs": [
        {
          "output_type": "stream",
          "name": "stdout",
          "text": [
            "\u001b[1m313/313\u001b[0m \u001b[32m━━━━━━━━━━━━━━━━━━━━\u001b[0m\u001b[37m\u001b[0m \u001b[1m0s\u001b[0m 1ms/step - accuracy: 0.8835 - loss: 0.3398\n",
            "\u001b[1m313/313\u001b[0m \u001b[32m━━━━━━━━━━━━━━━━━━━━\u001b[0m\u001b[37m\u001b[0m \u001b[1m1s\u001b[0m 2ms/step\n",
            "ANN Classification Report:\n",
            "              precision    recall  f1-score   support\n",
            "\n",
            "           0       0.85      0.81      0.83      1000\n",
            "           1       0.99      0.97      0.98      1000\n",
            "           2       0.80      0.79      0.80      1000\n",
            "           3       0.90      0.88      0.89      1000\n",
            "           4       0.75      0.86      0.80      1000\n",
            "           5       0.97      0.97      0.97      1000\n",
            "           6       0.72      0.67      0.69      1000\n",
            "           7       0.94      0.96      0.95      1000\n",
            "           8       0.96      0.98      0.97      1000\n",
            "           9       0.96      0.95      0.95      1000\n",
            "\n",
            "    accuracy                           0.88     10000\n",
            "   macro avg       0.88      0.88      0.88     10000\n",
            "weighted avg       0.88      0.88      0.88     10000\n",
            "\n"
          ]
        }
      ]
    },
    {
      "cell_type": "code",
      "source": [
        "from tensorflow.keras.layers import Conv2D, MaxPooling2D\n",
        "\n",
        "# Reshape the data to add the channel dimension\n",
        "x_train_cnn = x_train.reshape(-1, 28, 28, 1)\n",
        "x_test_cnn = x_test.reshape(-1, 28, 28, 1)\n",
        "\n",
        "# Build the CNN model\n",
        "cnn_model = Sequential([\n",
        "    Conv2D(32, (3, 3), activation='relu', input_shape=(28, 28, 1)),\n",
        "    MaxPooling2D((2, 2)),\n",
        "    Conv2D(64, (3, 3), activation='relu'),\n",
        "    MaxPooling2D((2, 2)),\n",
        "    Flatten(),\n",
        "    Dense(128, activation='relu'),\n",
        "    Dense(64, activation='relu'),\n",
        "    Dense(10, activation='softmax')\n",
        "])\n",
        "\n",
        "# Compile the model\n",
        "cnn_model.compile(optimizer='adam', loss='categorical_crossentropy', metrics=['accuracy'])\n",
        "\n",
        "# Train the model\n",
        "cnn_model.fit(x_train_cnn, y_train, epochs=10, validation_data=(x_test_cnn, y_test))\n"
      ],
      "metadata": {
        "colab": {
          "base_uri": "https://localhost:8080/"
        },
        "id": "yBGI8ZlGfxIN",
        "outputId": "a8a63615-57ec-4e24-d379-4f4b956399db"
      },
      "execution_count": 5,
      "outputs": [
        {
          "output_type": "stream",
          "name": "stderr",
          "text": [
            "/usr/local/lib/python3.10/dist-packages/keras/src/layers/convolutional/base_conv.py:107: UserWarning: Do not pass an `input_shape`/`input_dim` argument to a layer. When using Sequential models, prefer using an `Input(shape)` object as the first layer in the model instead.\n",
            "  super().__init__(activity_regularizer=activity_regularizer, **kwargs)\n"
          ]
        },
        {
          "output_type": "stream",
          "name": "stdout",
          "text": [
            "Epoch 1/10\n",
            "\u001b[1m1875/1875\u001b[0m \u001b[32m━━━━━━━━━━━━━━━━━━━━\u001b[0m\u001b[37m\u001b[0m \u001b[1m17s\u001b[0m 6ms/step - accuracy: 0.7672 - loss: 0.6411 - val_accuracy: 0.8697 - val_loss: 0.3642\n",
            "Epoch 2/10\n",
            "\u001b[1m1875/1875\u001b[0m \u001b[32m━━━━━━━━━━━━━━━━━━━━\u001b[0m\u001b[37m\u001b[0m \u001b[1m10s\u001b[0m 3ms/step - accuracy: 0.8847 - loss: 0.3127 - val_accuracy: 0.8955 - val_loss: 0.2925\n",
            "Epoch 3/10\n",
            "\u001b[1m1875/1875\u001b[0m \u001b[32m━━━━━━━━━━━━━━━━━━━━\u001b[0m\u001b[37m\u001b[0m \u001b[1m10s\u001b[0m 3ms/step - accuracy: 0.9035 - loss: 0.2595 - val_accuracy: 0.9026 - val_loss: 0.2666\n",
            "Epoch 4/10\n",
            "\u001b[1m1875/1875\u001b[0m \u001b[32m━━━━━━━━━━━━━━━━━━━━\u001b[0m\u001b[37m\u001b[0m \u001b[1m6s\u001b[0m 3ms/step - accuracy: 0.9167 - loss: 0.2227 - val_accuracy: 0.9026 - val_loss: 0.2687\n",
            "Epoch 5/10\n",
            "\u001b[1m1875/1875\u001b[0m \u001b[32m━━━━━━━━━━━━━━━━━━━━\u001b[0m\u001b[37m\u001b[0m \u001b[1m5s\u001b[0m 3ms/step - accuracy: 0.9272 - loss: 0.1927 - val_accuracy: 0.9077 - val_loss: 0.2622\n",
            "Epoch 6/10\n",
            "\u001b[1m1875/1875\u001b[0m \u001b[32m━━━━━━━━━━━━━━━━━━━━\u001b[0m\u001b[37m\u001b[0m \u001b[1m5s\u001b[0m 3ms/step - accuracy: 0.9337 - loss: 0.1772 - val_accuracy: 0.9079 - val_loss: 0.2744\n",
            "Epoch 7/10\n",
            "\u001b[1m1875/1875\u001b[0m \u001b[32m━━━━━━━━━━━━━━━━━━━━\u001b[0m\u001b[37m\u001b[0m \u001b[1m6s\u001b[0m 3ms/step - accuracy: 0.9427 - loss: 0.1517 - val_accuracy: 0.9022 - val_loss: 0.2738\n",
            "Epoch 8/10\n",
            "\u001b[1m1875/1875\u001b[0m \u001b[32m━━━━━━━━━━━━━━━━━━━━\u001b[0m\u001b[37m\u001b[0m \u001b[1m5s\u001b[0m 3ms/step - accuracy: 0.9490 - loss: 0.1357 - val_accuracy: 0.9100 - val_loss: 0.2700\n",
            "Epoch 9/10\n",
            "\u001b[1m1875/1875\u001b[0m \u001b[32m━━━━━━━━━━━━━━━━━━━━\u001b[0m\u001b[37m\u001b[0m \u001b[1m10s\u001b[0m 3ms/step - accuracy: 0.9543 - loss: 0.1192 - val_accuracy: 0.9153 - val_loss: 0.2928\n",
            "Epoch 10/10\n",
            "\u001b[1m1875/1875\u001b[0m \u001b[32m━━━━━━━━━━━━━━━━━━━━\u001b[0m\u001b[37m\u001b[0m \u001b[1m5s\u001b[0m 3ms/step - accuracy: 0.9612 - loss: 0.1024 - val_accuracy: 0.9088 - val_loss: 0.3044\n"
          ]
        },
        {
          "output_type": "execute_result",
          "data": {
            "text/plain": [
              "<keras.src.callbacks.history.History at 0x7a9a8f714be0>"
            ]
          },
          "metadata": {},
          "execution_count": 5
        }
      ]
    },
    {
      "cell_type": "code",
      "source": [
        "# Evaluate the model\n",
        "cnn_loss, cnn_accuracy = cnn_model.evaluate(x_test_cnn, y_test)\n",
        "y_pred_cnn = cnn_model.predict(x_test_cnn)\n",
        "y_pred_cnn_classes = y_pred_cnn.argmax(axis=1)\n",
        "\n",
        "# Print classification report\n",
        "print(\"CNN Classification Report:\")\n",
        "print(classification_report(y_true, y_pred_cnn_classes))\n"
      ],
      "metadata": {
        "colab": {
          "base_uri": "https://localhost:8080/"
        },
        "id": "clEtXEJRinP3",
        "outputId": "ae0a43c8-8b59-49a0-fc8c-4e76869732e9"
      },
      "execution_count": 6,
      "outputs": [
        {
          "output_type": "stream",
          "name": "stdout",
          "text": [
            "\u001b[1m313/313\u001b[0m \u001b[32m━━━━━━━━━━━━━━━━━━━━\u001b[0m\u001b[37m\u001b[0m \u001b[1m1s\u001b[0m 2ms/step - accuracy: 0.9060 - loss: 0.3134\n",
            "\u001b[1m313/313\u001b[0m \u001b[32m━━━━━━━━━━━━━━━━━━━━\u001b[0m\u001b[37m\u001b[0m \u001b[1m1s\u001b[0m 3ms/step\n",
            "CNN Classification Report:\n",
            "              precision    recall  f1-score   support\n",
            "\n",
            "           0       0.86      0.84      0.85      1000\n",
            "           1       0.99      0.98      0.99      1000\n",
            "           2       0.89      0.83      0.86      1000\n",
            "           3       0.92      0.92      0.92      1000\n",
            "           4       0.86      0.88      0.87      1000\n",
            "           5       0.98      0.98      0.98      1000\n",
            "           6       0.71      0.78      0.74      1000\n",
            "           7       0.97      0.94      0.95      1000\n",
            "           8       0.98      0.96      0.97      1000\n",
            "           9       0.95      0.98      0.96      1000\n",
            "\n",
            "    accuracy                           0.91     10000\n",
            "   macro avg       0.91      0.91      0.91     10000\n",
            "weighted avg       0.91      0.91      0.91     10000\n",
            "\n"
          ]
        }
      ]
    },
    {
      "cell_type": "code",
      "source": [
        "print(f\"ANN Accuracy: {ann_accuracy:.4f}\")\n",
        "print(f\"CNN Accuracy: {cnn_accuracy:.4f}\")\n",
        "\n",
        "# Compare classification reports\n",
        "ann_report = classification_report(y_true, y_pred_ann_classes, output_dict=True)\n",
        "cnn_report = classification_report(y_true, y_pred_cnn_classes, output_dict=True)\n",
        "\n",
        "print(\"\\nANN vs CNN Comparison:\")\n",
        "print(\"Precision, Recall, F1-Score for ANN:\")\n",
        "print(ann_report)\n",
        "\n",
        "print(\"Precision, Recall, F1-Score for CNN:\")\n",
        "print(cnn_report)\n"
      ],
      "metadata": {
        "colab": {
          "base_uri": "https://localhost:8080/"
        },
        "id": "P3HIqwmIi7O-",
        "outputId": "b6a4620c-6091-4d05-9265-39012aaaad16"
      },
      "execution_count": 7,
      "outputs": [
        {
          "output_type": "stream",
          "name": "stdout",
          "text": [
            "ANN Accuracy: 0.8838\n",
            "CNN Accuracy: 0.9088\n",
            "\n",
            "ANN vs CNN Comparison:\n",
            "Precision, Recall, F1-Score for ANN:\n",
            "{'0': {'precision': 0.848800834202294, 'recall': 0.814, 'f1-score': 0.8310362429811128, 'support': 1000.0}, '1': {'precision': 0.9858299595141701, 'recall': 0.974, 'f1-score': 0.9798792756539235, 'support': 1000.0}, '2': {'precision': 0.8022312373225152, 'recall': 0.791, 'f1-score': 0.796576032225579, 'support': 1000.0}, '3': {'precision': 0.8986693961105425, 'recall': 0.878, 'f1-score': 0.8882144663631766, 'support': 1000.0}, '4': {'precision': 0.7482698961937716, 'recall': 0.865, 'f1-score': 0.8024118738404453, 'support': 1000.0}, '5': {'precision': 0.969939879759519, 'recall': 0.968, 'f1-score': 0.968968968968969, 'support': 1000.0}, '6': {'precision': 0.723726977248104, 'recall': 0.668, 'f1-score': 0.6947477899115965, 'support': 1000.0}, '7': {'precision': 0.9437314906219151, 'recall': 0.956, 'f1-score': 0.949826130153999, 'support': 1000.0}, '8': {'precision': 0.9644268774703557, 'recall': 0.976, 'f1-score': 0.9701789264413518, 'support': 1000.0}, '9': {'precision': 0.9595141700404858, 'recall': 0.948, 'f1-score': 0.9537223340040242, 'support': 1000.0}, 'accuracy': 0.8838, 'macro avg': {'precision': 0.8845140718483673, 'recall': 0.8837999999999999, 'f1-score': 0.8835562040544177, 'support': 10000.0}, 'weighted avg': {'precision': 0.8845140718483674, 'recall': 0.8838, 'f1-score': 0.8835562040544178, 'support': 10000.0}}\n",
            "Precision, Recall, F1-Score for CNN:\n",
            "{'0': {'precision': 0.8649484536082475, 'recall': 0.839, 'f1-score': 0.8517766497461929, 'support': 1000.0}, '1': {'precision': 0.993920972644377, 'recall': 0.981, 'f1-score': 0.9874182184197282, 'support': 1000.0}, '2': {'precision': 0.8902045209903121, 'recall': 0.827, 'f1-score': 0.8574390876101607, 'support': 1000.0}, '3': {'precision': 0.9171656686626747, 'recall': 0.919, 'f1-score': 0.9180819180819181, 'support': 1000.0}, '4': {'precision': 0.8571428571428571, 'recall': 0.882, 'f1-score': 0.8693937900443568, 'support': 1000.0}, '5': {'precision': 0.9771598808341608, 'recall': 0.984, 'f1-score': 0.9805680119581465, 'support': 1000.0}, '6': {'precision': 0.7075386012715713, 'recall': 0.779, 'f1-score': 0.7415516420752023, 'support': 1000.0}, '7': {'precision': 0.96900826446281, 'recall': 0.938, 'f1-score': 0.9532520325203252, 'support': 1000.0}, '8': {'precision': 0.9846625766871165, 'recall': 0.963, 'f1-score': 0.9737108190091001, 'support': 1000.0}, '9': {'precision': 0.9484936831875608, 'recall': 0.976, 'f1-score': 0.9620502710694924, 'support': 1000.0}, 'accuracy': 0.9088, 'macro avg': {'precision': 0.9110245479491687, 'recall': 0.9088, 'f1-score': 0.9095242440534621, 'support': 10000.0}, 'weighted avg': {'precision': 0.9110245479491687, 'recall': 0.9088, 'f1-score': 0.9095242440534623, 'support': 10000.0}}\n"
          ]
        }
      ]
    }
  ]
}
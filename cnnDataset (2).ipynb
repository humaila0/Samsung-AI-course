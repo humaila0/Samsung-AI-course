{
  "nbformat": 4,
  "nbformat_minor": 0,
  "metadata": {
    "colab": {
      "provenance": [],
      "gpuType": "T4"
    },
    "kernelspec": {
      "name": "python3",
      "display_name": "Python 3"
    },
    "language_info": {
      "name": "python"
    },
    "accelerator": "GPU"
  },
  "cells": [
    {
      "cell_type": "code",
      "execution_count": 2,
      "metadata": {
        "id": "v1yZ-3g9Vgam"
      },
      "outputs": [],
      "source": [
        "import tensorflow as tf\n",
        "from tensorflow.keras.models import Sequential\n",
        "from tensorflow.keras.layers import Conv2D, MaxPooling2D, Flatten, Dense, Dropout\n",
        "from tensorflow.keras.preprocessing.image import ImageDataGenerator\n",
        "import matplotlib.pyplot as plt\n"
      ]
    },
    {
      "cell_type": "code",
      "source": [
        "# Load Fashion MNIST dataset\n",
        "(x_train, y_train), (x_test, y_test) = tf.keras.datasets.fashion_mnist.load_data()\n",
        "\n",
        "# Normalize data to [0, 1]\n",
        "x_train, x_test = x_train / 255.0, x_test / 255.0\n",
        "\n",
        "# Reshape to add a channel dimension (grayscale)\n",
        "x_train = x_train.reshape(-1, 28, 28, 1)\n",
        "x_test = x_test.reshape(-1, 28, 28, 1)\n"
      ],
      "metadata": {
        "colab": {
          "base_uri": "https://localhost:8080/"
        },
        "id": "ah3z6luYWB1B",
        "outputId": "670a519c-2d68-4ebe-ccce-a30256d9e851"
      },
      "execution_count": 3,
      "outputs": [
        {
          "output_type": "stream",
          "name": "stdout",
          "text": [
            "Downloading data from https://storage.googleapis.com/tensorflow/tf-keras-datasets/train-labels-idx1-ubyte.gz\n",
            "\u001b[1m29515/29515\u001b[0m \u001b[32m━━━━━━━━━━━━━━━━━━━━\u001b[0m\u001b[37m\u001b[0m \u001b[1m0s\u001b[0m 0us/step\n",
            "Downloading data from https://storage.googleapis.com/tensorflow/tf-keras-datasets/train-images-idx3-ubyte.gz\n",
            "\u001b[1m26421880/26421880\u001b[0m \u001b[32m━━━━━━━━━━━━━━━━━━━━\u001b[0m\u001b[37m\u001b[0m \u001b[1m0s\u001b[0m 0us/step\n",
            "Downloading data from https://storage.googleapis.com/tensorflow/tf-keras-datasets/t10k-labels-idx1-ubyte.gz\n",
            "\u001b[1m5148/5148\u001b[0m \u001b[32m━━━━━━━━━━━━━━━━━━━━\u001b[0m\u001b[37m\u001b[0m \u001b[1m0s\u001b[0m 0us/step\n",
            "Downloading data from https://storage.googleapis.com/tensorflow/tf-keras-datasets/t10k-images-idx3-ubyte.gz\n",
            "\u001b[1m4422102/4422102\u001b[0m \u001b[32m━━━━━━━━━━━━━━━━━━━━\u001b[0m\u001b[37m\u001b[0m \u001b[1m0s\u001b[0m 0us/step\n"
          ]
        }
      ]
    },
    {
      "cell_type": "code",
      "source": [
        "def create_cnn_model():\n",
        "    model = Sequential([\n",
        "        Conv2D(32, (3, 3), activation='relu', input_shape=(28, 28, 1)),\n",
        "        MaxPooling2D((2, 2)),\n",
        "        Conv2D(64, (3, 3), activation='relu'),\n",
        "        MaxPooling2D((2, 2)),\n",
        "        Flatten(),\n",
        "        Dense(128, activation='relu'),\n",
        "        Dropout(0.5),\n",
        "        Dense(10, activation='softmax')  # 10 classes\n",
        "    ])\n",
        "    model.compile(optimizer='adam', loss='sparse_categorical_crossentropy', metrics=['accuracy'])\n",
        "    return model\n"
      ],
      "metadata": {
        "id": "W6wh38XOWICI"
      },
      "execution_count": 4,
      "outputs": []
    },
    {
      "cell_type": "code",
      "source": [
        "# Create and train the model without data augmentation\n",
        "model_no_aug = create_cnn_model()\n",
        "\n",
        "history_no_aug = model_no_aug.fit(\n",
        "    x_train, y_train,\n",
        "    epochs=10,\n",
        "    validation_data=(x_test, y_test),\n",
        "    verbose=2\n",
        ")\n"
      ],
      "metadata": {
        "colab": {
          "base_uri": "https://localhost:8080/"
        },
        "id": "ayLMuew7WZRo",
        "outputId": "f69a2318-b032-4be6-8274-bac7a959f562"
      },
      "execution_count": 5,
      "outputs": [
        {
          "output_type": "stream",
          "name": "stderr",
          "text": [
            "/usr/local/lib/python3.10/dist-packages/keras/src/layers/convolutional/base_conv.py:107: UserWarning: Do not pass an `input_shape`/`input_dim` argument to a layer. When using Sequential models, prefer using an `Input(shape)` object as the first layer in the model instead.\n",
            "  super().__init__(activity_regularizer=activity_regularizer, **kwargs)\n"
          ]
        },
        {
          "output_type": "stream",
          "name": "stdout",
          "text": [
            "Epoch 1/10\n",
            "1875/1875 - 10s - 5ms/step - accuracy: 0.8024 - loss: 0.5513 - val_accuracy: 0.8669 - val_loss: 0.3683\n",
            "Epoch 2/10\n",
            "1875/1875 - 4s - 2ms/step - accuracy: 0.8660 - loss: 0.3705 - val_accuracy: 0.8858 - val_loss: 0.3157\n",
            "Epoch 3/10\n",
            "1875/1875 - 6s - 3ms/step - accuracy: 0.8820 - loss: 0.3232 - val_accuracy: 0.8919 - val_loss: 0.2894\n",
            "Epoch 4/10\n",
            "1875/1875 - 4s - 2ms/step - accuracy: 0.8946 - loss: 0.2932 - val_accuracy: 0.8998 - val_loss: 0.2746\n",
            "Epoch 5/10\n",
            "1875/1875 - 4s - 2ms/step - accuracy: 0.8999 - loss: 0.2739 - val_accuracy: 0.9015 - val_loss: 0.2659\n",
            "Epoch 6/10\n",
            "1875/1875 - 5s - 2ms/step - accuracy: 0.9057 - loss: 0.2544 - val_accuracy: 0.9090 - val_loss: 0.2637\n",
            "Epoch 7/10\n",
            "1875/1875 - 4s - 2ms/step - accuracy: 0.9108 - loss: 0.2381 - val_accuracy: 0.9095 - val_loss: 0.2542\n",
            "Epoch 8/10\n",
            "1875/1875 - 5s - 3ms/step - accuracy: 0.9166 - loss: 0.2236 - val_accuracy: 0.9100 - val_loss: 0.2556\n",
            "Epoch 9/10\n",
            "1875/1875 - 5s - 3ms/step - accuracy: 0.9204 - loss: 0.2146 - val_accuracy: 0.9131 - val_loss: 0.2504\n",
            "Epoch 10/10\n",
            "1875/1875 - 4s - 2ms/step - accuracy: 0.9232 - loss: 0.2060 - val_accuracy: 0.9076 - val_loss: 0.2556\n"
          ]
        }
      ]
    },
    {
      "cell_type": "code",
      "source": [
        "# Define the ImageDataGenerator with data augmentation\n",
        "datagen = ImageDataGenerator(\n",
        "    horizontal_flip=True,\n",
        "    vertical_flip=False,\n",
        "    rotation_range=20,\n",
        "    zoom_range=0.2,\n",
        "    brightness_range=[0.8, 1.2]\n",
        ")\n",
        "\n",
        "# Fit the generator to the training data\n",
        "datagen.fit(x_train)\n",
        "\n",
        "# Create and train the model with data augmentation\n",
        "model_with_aug = create_cnn_model()\n",
        "\n",
        "history_with_aug = model_with_aug.fit(\n",
        "    datagen.flow(x_train, y_train, batch_size=32),\n",
        "    epochs=10,\n",
        "    validation_data=(x_test, y_test),\n",
        "    verbose=2\n",
        ")\n"
      ],
      "metadata": {
        "colab": {
          "base_uri": "https://localhost:8080/"
        },
        "id": "wwWZD5BaZoMf",
        "outputId": "c6243ca4-3a92-4991-f3ca-b6e58ea926c4"
      },
      "execution_count": 6,
      "outputs": [
        {
          "output_type": "stream",
          "name": "stdout",
          "text": [
            "Epoch 1/10\n"
          ]
        },
        {
          "output_type": "stream",
          "name": "stderr",
          "text": [
            "/usr/local/lib/python3.10/dist-packages/keras/src/trainers/data_adapters/py_dataset_adapter.py:122: UserWarning: Your `PyDataset` class should call `super().__init__(**kwargs)` in its constructor. `**kwargs` can include `workers`, `use_multiprocessing`, `max_queue_size`. Do not pass these arguments to `fit()`, as they will be ignored.\n",
            "  self._warn_if_super_not_called()\n"
          ]
        },
        {
          "output_type": "stream",
          "name": "stdout",
          "text": [
            "1875/1875 - 32s - 17ms/step - accuracy: 0.0991 - loss: 2.3020 - val_accuracy: 0.1670 - val_loss: 5.5782\n",
            "Epoch 2/10\n",
            "1875/1875 - 30s - 16ms/step - accuracy: 0.0995 - loss: 2.3018 - val_accuracy: 0.1179 - val_loss: 7.6543\n",
            "Epoch 3/10\n",
            "1875/1875 - 28s - 15ms/step - accuracy: 0.1001 - loss: 2.3018 - val_accuracy: 0.1694 - val_loss: 9.5638\n",
            "Epoch 4/10\n",
            "1875/1875 - 28s - 15ms/step - accuracy: 0.0978 - loss: 2.3018 - val_accuracy: 0.1784 - val_loss: 7.4604\n",
            "Epoch 5/10\n",
            "1875/1875 - 41s - 22ms/step - accuracy: 0.0994 - loss: 2.3017 - val_accuracy: 0.1923 - val_loss: 2.1816\n",
            "Epoch 6/10\n",
            "1875/1875 - 42s - 23ms/step - accuracy: 0.1013 - loss: 2.3013 - val_accuracy: 0.1894 - val_loss: 5.3066\n",
            "Epoch 7/10\n",
            "1875/1875 - 29s - 16ms/step - accuracy: 0.1007 - loss: 2.3015 - val_accuracy: 0.1898 - val_loss: 5.1690\n",
            "Epoch 8/10\n",
            "1875/1875 - 29s - 15ms/step - accuracy: 0.0988 - loss: 2.3014 - val_accuracy: 0.2252 - val_loss: 2.2129\n",
            "Epoch 9/10\n",
            "1875/1875 - 29s - 15ms/step - accuracy: 0.0997 - loss: 2.3013 - val_accuracy: 0.1635 - val_loss: 2.2576\n",
            "Epoch 10/10\n",
            "1875/1875 - 41s - 22ms/step - accuracy: 0.0980 - loss: 2.3016 - val_accuracy: 0.1845 - val_loss: 2.3678\n"
          ]
        }
      ]
    },
    {
      "cell_type": "code",
      "source": [
        "import matplotlib.pyplot as plt\n",
        "# Plot accuracy comparison\n",
        "plt.plot(history_no_aug.history['accuracy'], label='Without Augmentation')\n",
        "plt.plot(history_with_aug.history['accuracy'], label='With Augmentation')\n",
        "plt.title('Model Accuracy')\n",
        "plt.xlabel('Epoch')\n",
        "plt.ylabel('Accuracy')\n",
        "plt.legend()\n",
        "plt.show()\n",
        "\n",
        "# Plot loss comparison\n",
        "plt.plot(history_no_aug.history['loss'], label='Without Augmentation')\n",
        "plt.plot(history_with_aug.history['loss'], label='With Augmentation')\n",
        "plt.title('Model Loss')\n",
        "plt.xlabel('Epoch')\n",
        "plt.ylabel('Loss')\n",
        "plt.legend()\n",
        "plt.show()\n"
      ],
      "metadata": {
        "id": "b6lqg3TxdLBM",
        "colab": {
          "base_uri": "https://localhost:8080/",
          "height": 927
        },
        "outputId": "87dda1d2-e8e7-4923-e395-7f80897f5596"
      },
      "execution_count": 7,
      "outputs": [
        {
          "output_type": "display_data",
          "data": {
            "text/plain": [
              "<Figure size 640x480 with 1 Axes>"
            ],
            "image/png": "[encoded data removed]"
          },
          "metadata": {}
        },
        {
          "output_type": "display_data",
          "data": {
            "text/plain": [
              "<Figure size 640x480 with 1 Axes>"
            ],
            "image/png": "[encoded data removed]"
          },
          "metadata": {}
        }
      ]
    },
    {
      "cell_type": "code",
      "source": [
        "# Evaluate models on the test set\n",
        "test_loss_no_aug, test_acc_no_aug = model_no_aug.evaluate(x_test, y_test, verbose=0)\n",
        "test_loss_with_aug, test_acc_with_aug = model_with_aug.evaluate(x_test, y_test, verbose=0)\n",
        "\n",
        "print(f\"Without Augmentation - Test Accuracy: {test_acc_no_aug:.4f}, Test Loss: {test_loss_no_aug:.4f}\")\n",
        "print(f\"With Augmentation    - Test Accuracy: {test_acc_with_aug:.4f}, Test Loss: {test_loss_with_aug:.4f}\")\n"
      ],
      "metadata": {
        "id": "K5SgTP1bnYG0",
        "colab": {
          "base_uri": "https://localhost:8080/"
        },
        "outputId": "cc6d6155-0f54-419e-e282-b9ba3a27e36f"
      },
      "execution_count": 8,
      "outputs": [
        {
          "output_type": "stream",
          "name": "stdout",
          "text": [
            "Without Augmentation - Test Accuracy: 0.9076, Test Loss: 0.2556\n",
            "With Augmentation    - Test Accuracy: 0.1845, Test Loss: 2.3678\n"
          ]
        }
      ]
    },
    {
      "cell_type": "code",
      "source": [
        "# Display some augmented images\n",
        "augmented_images, _ = next(datagen.flow(x_train, y_train, batch_size=9))\n",
        "for i in range(9):\n",
        "    plt.subplot(1, 9, i + 1)\n",
        "    plt.imshow(augmented_images[i].reshape(28, 28), cmap='gray')\n",
        "    plt.axis('on')\n",
        "plt.show()\n"
      ],
      "metadata": {
        "id": "nW9vT__ana3k",
        "colab": {
          "base_uri": "https://localhost:8080/",
          "height": 112
        },
        "outputId": "458615de-37bf-4c7b-dee9-7deab25741fe"
      },
      "execution_count": 23,
      "outputs": [
        {
          "output_type": "display_data",
          "data": {
            "text/plain": [
              "<Figure size 640x480 with 9 Axes>"
            ],
            "image/png": "[encoded data removed]"
          },
          "metadata": {}
        }
      ]
    }
  ]
}
{
 "cells": [
  {
   "cell_type": "code",
   "execution_count": 15,
   "id": "8ec6aed2-f094-4768-84f8-4415863386ea",
   "metadata": {},
   "outputs": [
    {
     "name": "stdout",
     "output_type": "stream",
     "text": [
      "Select operation:\n",
      "1. Add\n",
      "2. Subtract\n",
      "3. Multiply\n",
      "4. Divide\n"
     ]
    },
    {
     "name": "stdin",
     "output_type": "stream",
     "text": [
      "Enter choice (1/2/3/4):  1\n",
      "Enter the first number:  2\n",
      "Enter the second number:  3\n"
     ]
    },
    {
     "name": "stdout",
     "output_type": "stream",
     "text": [
      "The result is: {add(num1, num2)}\n"
     ]
    }
   ],
   "source": [
    "\n",
    "\n",
    "#Task1:\n",
    "def add(x, y):\n",
    "    return x + y\n",
    "\n",
    "def subtract(x, y):\n",
    "    return x - y\n",
    "\n",
    "def multiply(x, y):\n",
    "    return x * y\n",
    "\n",
    "def divide(x, y):\n",
    "        return x / y\n",
    "\n",
    "print(\"Select operation:\")\n",
    "print(\"1. Add\")\n",
    "print(\"2. Subtract\")\n",
    "print(\"3. Multiply\")\n",
    "print(\"4. Divide\")\n",
    "\n",
    "choice = input(\"Enter choice (1/2/3/4): \")\n",
    "\n",
    "num1 = float(input(\"Enter the first number: \"))\n",
    "num2 = float(input(\"Enter the second number: \"))\n",
    "\n",
    "if choice == '1':\n",
    "  print(f\"The result is: {add(num1, num2)}\")\n",
    "elif choice == '2':\n",
    "    print(f\"The result is: {subtract(num1, num2)}\")\n",
    "elif choice == '3':\n",
    "    print(f\"The result is: {multiply(num1, num2)}\")\n",
    "elif choice == '4':\n",
    "    print(f\"The result is: {divide(num1, num2)}\")\n",
    "else:\n",
    "    print(\"Invalid input! Please choose a valid operation.\")\n"
   ]
  },
  {
   "cell_type": "code",
   "execution_count": 17,
   "id": "17de29b4-d8b6-43b4-9da2-a56de035faed",
   "metadata": {},
   "outputs": [
    {
     "name": "stdin",
     "output_type": "stream",
     "text": [
      "Enter a string:  mam\n"
     ]
    },
    {
     "name": "stdout",
     "output_type": "stream",
     "text": [
      "The string is a palindrome!\n"
     ]
    }
   ],
   "source": [
    "#Task2:\n",
    "str= input(\"Enter a string: \")\n",
    "\n",
    "str = str.replace(\" \", \"\").lower()\n",
    "\n",
    "if str == str[::-1]:\n",
    "    print(\"The string is a palindrome!\")\n",
    "else:\n",
    "    print(\"The string is not a palindrome.\")\n"
   ]
  },
  {
   "cell_type": "code",
   "execution_count": 21,
   "id": "527d4af0-e9e6-4dbe-88e7-854aa0cd5468",
   "metadata": {},
   "outputs": [
    {
     "name": "stdin",
     "output_type": "stream",
     "text": [
      "Enter the starting number:  4\n",
      "Enter the ending number:  7\n"
     ]
    },
    {
     "name": "stdout",
     "output_type": "stream",
     "text": [
      "Prime numbers between 4 and 7 are: [5, 7]\n"
     ]
    }
   ],
   "source": [
    "#Task3:\n",
    "\n",
    "def prime(n):\n",
    "    if n < 2:\n",
    "        return False\n",
    "    for i in range(2, n):\n",
    "        if n % i == 0:\n",
    "            return False\n",
    "    return True\n",
    "\n",
    "def p(s, e):\n",
    "    primes = []\n",
    "    for num in range(start, end + 1):\n",
    "        if prime(num):\n",
    "            primes.append(num)\n",
    "    return primes\n",
    "\n",
    "# Get input from the user\n",
    "start = int(input(\"Enter the starting number: \"))\n",
    "end = int(input(\"Enter the ending number: \"))\n",
    "\n",
    "primes = p(start, end)\n",
    "\n",
    "print(\"Prime numbers between\", start, \"and\", end, \"are:\", primes)\n"
   ]
  },
  {
   "cell_type": "code",
   "execution_count": 27,
   "id": "830cda04-eae5-4549-8f58-220cd4d3abd4",
   "metadata": {},
   "outputs": [
    {
     "name": "stdin",
     "output_type": "stream",
     "text": [
      "Enter number of rounds to play:  1\n",
      "Enter r for rock,p for paper,s for or scissors:  p\n"
     ]
    },
    {
     "name": "stdout",
     "output_type": "stream",
     "text": [
      "Computer chose: scissors\n",
      "Computer wins this round!\n",
      "\n",
      "Final Score -> You: 0, Computer: 1\n",
      "Computer is the overall winner!\n"
     ]
    }
   ],
   "source": [
    "#Task4:\n",
    "import random\n",
    "\n",
    "def get_computer_choice():\n",
    "    return random.choice(['rock', 'paper', 'scissors'])\n",
    "\n",
    "def play(rounds):\n",
    "    user_score = 0\n",
    "    computer_score = 0\n",
    "\n",
    "    for _ in range(rounds):\n",
    "        user_choice = input(\"Enter r for rock,p for paper,s for or scissors: \").lower()\n",
    "        while user_choice not in ['r', 'p', 's']:\n",
    "            user_choice = input(\"Invalid choice. Enter r, p, or s: \").lower()\n",
    "        \n",
    "        computer_choice = get_computer_choice()\n",
    "        print(f\"Computer chose: {computer_choice}\")\n",
    "\n",
    "        if user_choice == computer_choice:\n",
    "            print(\"It's a draw!\")\n",
    "        elif (user_choice == 'r' and computer_choice == 's') or \\\n",
    "             (user_choice == 's' and computer_choice == 'p') or \\\n",
    "             (user_choice == 'p' and computer_choice == 'r'):\n",
    "            user_score += 1\n",
    "            print(\"You win this round!\")\n",
    "        else:\n",
    "            computer_score += 1\n",
    "            print(\"Computer wins this round!\")\n",
    "\n",
    "    print(f\"\\nFinal Score -> You: {user_score}, Computer: {computer_score}\")\n",
    "    if user_score > computer_score:\n",
    "        print(\"You are the overall winner!\")\n",
    "    elif user_score < computer_score:\n",
    "        print(\"Computer is the overall winner!\")\n",
    "    else:\n",
    "        print(\"It's a tie!\")\n",
    "\n",
    "rounds = int(input(\"Enter number of rounds to play: \"))\n",
    "play(rounds)\n"
   ]
  },
  {
   "cell_type": "code",
   "execution_count": 35,
   "id": "3ed8e88c-d7c4-4f00-a8ed-83674a844706",
   "metadata": {},
   "outputs": [
    {
     "name": "stdin",
     "output_type": "stream",
     "text": [
      "Enter the number to generate  Fibonacci sequence:  4\n"
     ]
    },
    {
     "name": "stdout",
     "output_type": "stream",
     "text": [
      "[0, 1, 1, 2]\n"
     ]
    }
   ],
   "source": [
    "#Task5:\n",
    "def fibonacci(n):\n",
    "    a, b = 0, 1\n",
    "    sequence = [a]\n",
    "    for _ in range(1, n):\n",
    "        a, b = b, a + b\n",
    "        sequence.append(a)\n",
    "    return sequence\n",
    "\n",
    "n = int(input(\"Enter the number to generate  Fibonacci sequence: \"))\n",
    "print(fibonacci(n))\n"
   ]
  },
  {
   "cell_type": "code",
   "execution_count": 37,
   "id": "71e7e3a1-c645-4ba3-be34-c8135aa2c663",
   "metadata": {},
   "outputs": [
    {
     "name": "stdin",
     "output_type": "stream",
     "text": [
      "Guess the number (1-100):  4\n"
     ]
    },
    {
     "name": "stdout",
     "output_type": "stream",
     "text": [
      "Too low!\n"
     ]
    },
    {
     "name": "stdin",
     "output_type": "stream",
     "text": [
      "Guess the number (1-100):  7\n"
     ]
    },
    {
     "name": "stdout",
     "output_type": "stream",
     "text": [
      "Too low!\n"
     ]
    },
    {
     "name": "stdin",
     "output_type": "stream",
     "text": [
      "Guess the number (1-100):  77\n"
     ]
    },
    {
     "name": "stdout",
     "output_type": "stream",
     "text": [
      "Too high!\n"
     ]
    },
    {
     "name": "stdin",
     "output_type": "stream",
     "text": [
      "Guess the number (1-100):  55\n"
     ]
    },
    {
     "name": "stdout",
     "output_type": "stream",
     "text": [
      "Too high!\n"
     ]
    },
    {
     "name": "stdin",
     "output_type": "stream",
     "text": [
      "Guess the number (1-100):  33\n"
     ]
    },
    {
     "name": "stdout",
     "output_type": "stream",
     "text": [
      "Too high!\n"
     ]
    },
    {
     "name": "stdin",
     "output_type": "stream",
     "text": [
      "Guess the number (1-100):  22\n"
     ]
    },
    {
     "name": "stdout",
     "output_type": "stream",
     "text": [
      "Too high!\n"
     ]
    },
    {
     "name": "stdin",
     "output_type": "stream",
     "text": [
      "Guess the number (1-100):  11\n"
     ]
    },
    {
     "name": "stdout",
     "output_type": "stream",
     "text": [
      "Too low!\n"
     ]
    },
    {
     "name": "stdin",
     "output_type": "stream",
     "text": [
      "Guess the number (1-100):  14\n"
     ]
    },
    {
     "name": "stdout",
     "output_type": "stream",
     "text": [
      "Too low!\n"
     ]
    },
    {
     "name": "stdin",
     "output_type": "stream",
     "text": [
      "Guess the number (1-100):  17\n"
     ]
    },
    {
     "name": "stdout",
     "output_type": "stream",
     "text": [
      "Congrats! You guessed it in 9 attempts.\n"
     ]
    }
   ],
   "source": [
    "#Task6:\n",
    "import random\n",
    "\n",
    "def guessGame():\n",
    "    number_to_guess = random.randint(1, 100)\n",
    "    attempts = 0\n",
    "\n",
    "    while True:\n",
    "        guess = int(input(\"Guess the number (1-100): \"))\n",
    "        attempts += 1\n",
    "        if guess < number_to_guess:\n",
    "            print(\"Too low!\")\n",
    "        elif guess > number_to_guess:\n",
    "            print(\"Too high!\")\n",
    "        else:\n",
    "            print(f\"Congrats! You guessed it in {attempts} attempts.\")\n",
    "            break\n",
    "\n",
    "guessGame()\n"
   ]
  },
  {
   "cell_type": "code",
   "execution_count": 41,
   "id": "10471d48-662f-4d40-bbd9-ae5dac5ce869",
   "metadata": {},
   "outputs": [
    {
     "name": "stdin",
     "output_type": "stream",
     "text": [
      "Enter the number of rows for the pyramid:  8\n"
     ]
    },
    {
     "name": "stdout",
     "output_type": "stream",
     "text": [
      "       *\n",
      "      ***\n",
      "     *****\n",
      "    *******\n",
      "   *********\n",
      "  ***********\n",
      " *************\n",
      "***************\n"
     ]
    }
   ],
   "source": [
    "#Task7:\n",
    "def pyramid(n):\n",
    "    for i in range(1, n + 1):\n",
    "        # Print spaces before the asterisks\n",
    "        print(' ' * (n - i) + '*' * (2 * i - 1))\n",
    "\n",
    "# Take input from the user\n",
    "n = int(input(\"Enter the number of rows for the pyramid: \"))\n",
    "pyramid(n)\n"
   ]
  },
  {
   "cell_type": "code",
   "execution_count": 45,
   "id": "0a103fd8-6bdb-4046-a432-250e92ad7896",
   "metadata": {},
   "outputs": [
    {
     "name": "stdin",
     "output_type": "stream",
     "text": [
      "Enter a list of numbers separated by spaces:  1\n"
     ]
    },
    {
     "name": "stdout",
     "output_type": "stream",
     "text": [
      "There is no second largest number.\n"
     ]
    }
   ],
   "source": [
    "#Task8:\n",
    "def second_largest(numbers):\n",
    " \n",
    "    unique_numbers = list(set(numbers))\n",
    "    \n",
    "    if len(unique_numbers) < 2:\n",
    "        return None \n",
    "    \n",
    "  \n",
    "    unique_numbers.sort(reverse=True)\n",
    "    \n",
    "  \n",
    "    return unique_numbers[1]\n",
    "\n",
    "\n",
    "numbers = list(map(int, input(\"Enter a list of numbers separated by spaces: \").split()))\n",
    "result = second_largest(numbers)\n",
    "\n",
    "if result is None:\n",
    "    print(\"There is no second largest number.\")\n",
    "else:\n",
    "    print(f\"The second largest number is: {result}\")\n"
   ]
  },
  {
   "cell_type": "code",
   "execution_count": 49,
   "id": "09dbec2d-ada2-4a51-ad18-6d50d8b9f5a2",
   "metadata": {},
   "outputs": [
    {
     "name": "stdout",
     "output_type": "stream",
     "text": [
      "Common elements: [4, 5]\n"
     ]
    }
   ],
   "source": [
    "#Task9:\n",
    "def common_elements(list1, list2):\n",
    "    return list(set(list1) & set(list2))#for intersection\n",
    "\n",
    "list1 = [1, 2, 3, 4, 5]\n",
    "list2 = [4, 5, 6, 7, 8]\n",
    "\n",
    "common = common_elements(list1, list2)\n",
    "print(\"Common elements:\", common)\n"
   ]
  },
  {
   "cell_type": "code",
   "execution_count": 51,
   "id": "24b22265-fe39-481e-b009-5c372c7ad4a3",
   "metadata": {},
   "outputs": [
    {
     "name": "stdin",
     "output_type": "stream",
     "text": [
      "Enter the number for the multiplication table:  7\n",
      "Enter the range (up to what number):  10\n"
     ]
    },
    {
     "name": "stdout",
     "output_type": "stream",
     "text": [
      "7 x 1 = 7\n",
      "7 x 2 = 14\n",
      "7 x 3 = 21\n",
      "7 x 4 = 28\n",
      "7 x 5 = 35\n",
      "7 x 6 = 42\n",
      "7 x 7 = 49\n",
      "7 x 8 = 56\n",
      "7 x 9 = 63\n",
      "7 x 10 = 70\n"
     ]
    }
   ],
   "source": [
    "#Task10:\n",
    "def m(number, up_to):\n",
    "    for i in range(1, up_to + 1):\n",
    "        print(f\"{number} x {i} = {number * i}\")\n",
    "\n",
    "\n",
    "number = int(input(\"Enter the number for the multiplication table: \"))\n",
    "up_to = int(input(\"Enter the range (up to what number): \"))\n",
    "\n",
    "m(number, up_to)\n"
   ]
  }
 ],
 "metadata": {
  "kernelspec": {
   "display_name": "Python 3 (ipykernel)",
   "language": "python",
   "name": "python3"
  },
  "language_info": {
   "codemirror_mode": {
    "name": "ipython",
    "version": 3
   },
   "file_extension": ".py",
   "mimetype": "text/x-python",
   "name": "python",
   "nbconvert_exporter": "python",
   "pygments_lexer": "ipython3",
   "version": "3.11.7"
  }
 },
 "nbformat": 4,
 "nbformat_minor": 5
}
